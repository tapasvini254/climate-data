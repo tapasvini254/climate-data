{
  "nbformat": 4,
  "nbformat_minor": 0,
  "metadata": {
    "colab": {
      "provenance": [],
      "authorship_tag": "ABX9TyPjGTBtZ6w7lKYhWoTxLhb5",
      "include_colab_link": true
    },
    "kernelspec": {
      "name": "python3",
      "display_name": "Python 3"
    },
    "language_info": {
      "name": "python"
    }
  },
  "cells": [
    {
      "cell_type": "markdown",
      "metadata": {
        "id": "view-in-github",
        "colab_type": "text"
      },
      "source": [
        "<a href=\"https://colab.research.google.com/github/tapasvini254/climate-data/blob/main/climate_data.ipynb\" target=\"_parent\"><img src=\"https://colab.research.google.com/assets/colab-badge.svg\" alt=\"Open In Colab\"/></a>"
      ]
    },
    {
      "cell_type": "code",
      "execution_count": 8,
      "metadata": {
        "colab": {
          "base_uri": "https://localhost:8080/"
        },
        "id": "C_y6JuIlLNiq",
        "outputId": "07542a70-8d00-4ebf-8440-a8a786444a8a"
      },
      "outputs": [
        {
          "output_type": "stream",
          "name": "stdout",
          "text": [
            "Overall Mean Temperature: 13.05°C\n"
          ]
        }
      ],
      "source": [
        "import matplotlib.pyplot as plt\n",
        "import pandas as pd\n",
        "\n",
        "url = \"https://raw.githubusercontent.com/tapasvini254/climate-data/refs/heads/main/climate_data.csv\"\n",
        "df = pd.read_csv(url)\n",
        "\n",
        "# Convert non-numeric columns to index\n",
        "df.set_index(\"Month\", inplace=True)\n",
        "\n",
        "# Calculate overall mean\n",
        "overall_mean = df.mean().mean()\n",
        "print(f\"Overall Mean Temperature: {overall_mean:.2f}°C\")"
      ]
    }
  ]
}