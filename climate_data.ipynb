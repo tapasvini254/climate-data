{
  "nbformat": 4,
  "nbformat_minor": 0,
  "metadata": {
    "colab": {
      "provenance": [],
      "authorship_tag": "ABX9TyOKFajjvsrphwQc+S8KZSwl",
      "include_colab_link": true
    },
    "kernelspec": {
      "name": "python3",
      "display_name": "Python 3"
    },
    "language_info": {
      "name": "python"
    }
  },
  "cells": [
    {
      "cell_type": "markdown",
      "metadata": {
        "id": "view-in-github",
        "colab_type": "text"
      },
      "source": [
        "<a href=\"https://colab.research.google.com/github/tapasvini254/climate-data/blob/main/climate_data.ipynb\" target=\"_parent\"><img src=\"https://colab.research.google.com/assets/colab-badge.svg\" alt=\"Open In Colab\"/></a>"
      ]
    },
    {
      "cell_type": "code",
      "execution_count": null,
      "metadata": {
        "colab": {
          "base_uri": "https://localhost:8080/"
        },
        "id": "C_y6JuIlLNiq",
        "outputId": "07542a70-8d00-4ebf-8440-a8a786444a8a"
      },
      "outputs": [
        {
          "output_type": "stream",
          "name": "stdout",
          "text": [
            "Overall Mean Temperature: 13.05°C\n"
          ]
        }
      ],
      "source": [
        "import matplotlib.pyplot as plt\n",
        "import pandas as pd\n",
        "\n",
        "url = \"https://raw.githubusercontent.com/tapasvini254/climate-data/refs/heads/main/climate_data.csv\"\n",
        "df = pd.read_csv(url)\n",
        "\n",
        "# Convert non-numeric columns to index\n",
        "df.set_index(\"Month\", inplace=True)\n",
        "\n",
        "# Calculate overall mean\n",
        "overall_mean = df.mean().mean()\n",
        "print(f\"Overall Mean Temperature: {overall_mean:.2f}°C\")"
      ]
    },
    {
      "cell_type": "code",
      "source": [
        "import matplotlib.pyplot as plt\n",
        "import pandas as pd\n",
        "\n",
        "url = \"https://raw.githubusercontent.com/tapasvini254/climate-data/refs/heads/main/climate_data.csv\"\n",
        "df = pd.read_csv(url)\n",
        "\n",
        "# Convert non-numeric columns to index\n",
        "df.set_index(\"Month\", inplace=True)\n",
        "\n",
        "#calculate the overall standard deviation\n",
        "overall_std = df.std().mean()\n",
        "print(f\"Overall Standard Deviation is {overall_std:.2f}°C\")"
      ],
      "metadata": {
        "colab": {
          "base_uri": "https://localhost:8080/"
        },
        "id": "Z7jz8o7s4So_",
        "outputId": "6a4f463e-e032-42d2-dbb7-95bb2d4a875c"
      },
      "execution_count": 2,
      "outputs": [
        {
          "output_type": "stream",
          "name": "stdout",
          "text": [
            "Overall Standard Deviation is 6.83°C\n"
          ]
        }
      ]
    },
    {
      "cell_type": "code",
      "source": [
        "import matplotlib.pyplot as plt\n",
        "import pandas as pd\n",
        "\n",
        "url = \"https://raw.githubusercontent.com/tapasvini254/climate-data/refs/heads/main/climate_data.csv\"\n",
        "df = pd.read_csv(url)\n",
        "\n",
        "# Convert non-numeric columns to index\n",
        "df.set_index(\"Month\", inplace=True)\n",
        "\n",
        "#calulate the mean value per city\n",
        "mean_value_per_city = df.mean()\n",
        "\n",
        "#print results\n",
        "print(\"Mean Temperature Values Per City (°C):\")\n",
        "print(mean_value_per_city)"
      ],
      "metadata": {
        "colab": {
          "base_uri": "https://localhost:8080/"
        },
        "id": "9rvHNdqH72rg",
        "outputId": "aa18a6b8-8a38-4aec-cebb-f483cba26908"
      },
      "execution_count": 5,
      "outputs": [
        {
          "output_type": "stream",
          "name": "stdout",
          "text": [
            "Mean Temperature Values Per City (°C):\n",
            "Cairo     22.558333\n",
            "London    11.300000\n",
            "Moscow     5.291667\n",
            "dtype: float64\n"
          ]
        }
      ]
    },
    {
      "cell_type": "code",
      "source": [
        "import matplotlib.pyplot as plt\n",
        "import pandas as pd\n",
        "\n",
        "url = \"https://raw.githubusercontent.com/tapasvini254/climate-data/refs/heads/main/climate_data.csv\"\n",
        "df = pd.read_csv(url)\n",
        "\n",
        "# Convert non-numeric columns to index\n",
        "df.set_index(\"Month\", inplace=True)\n",
        "\n",
        "#Calculate the standard deviation per city\n",
        "standard_deviation_per_city = df.std()\n",
        "\n",
        "#print results\n",
        "print(\"Standard Deviation per City (°C):\")\n",
        "print(standard_deviation_per_city)"
      ],
      "metadata": {
        "colab": {
          "base_uri": "https://localhost:8080/"
        },
        "id": "hSEKZJ4sAERm",
        "outputId": "7b8f9e92-28b0-4c05-802e-17e1e79779ad"
      },
      "execution_count": 6,
      "outputs": [
        {
          "output_type": "stream",
          "name": "stdout",
          "text": [
            "Standard Deviation per City (°C):\n",
            "Cairo      5.296561\n",
            "London     5.070413\n",
            "Moscow    10.116634\n",
            "dtype: float64\n"
          ]
        }
      ]
    }
  ]
}